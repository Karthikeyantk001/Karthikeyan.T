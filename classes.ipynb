{
 "cells": [
  {
   "cell_type": "code",
   "execution_count": 2,
   "metadata": {},
   "outputs": [
    {
     "name": "stdout",
     "output_type": "stream",
     "text": [
      "payroll for:1-felix- Amount:2000\n",
      "payroll for:2-xavier- Amount:600\n",
      "payroll for:3-Dhas- Amount:125\n"
     ]
    }
   ],
   "source": [
    "class payrollsystem:\n",
    "    def calculate_payroll(self,Employees):\n",
    "        for employee in Employees:\n",
    "           print(f'payroll for:{employee.id}-{employee.name}-',end =\" \")\n",
    "           print(f'Amount:{employee.calculate_payroll()}')\n",
    "class Employee: \n",
    "    def __init__(self,id,name):\n",
    "        self.id=id\n",
    "        self.name=name\n",
    "class SalaryEmployee(Employee):\n",
    "    def __init__(self,id,name,Weekly_salary):\n",
    "        super().__init__(id,name)\n",
    "        self.Weekly_salary=Weekly_salary \n",
    "    def calculate_payroll(self):\n",
    "        return self.Weekly_salary\n",
    "class HourlyEmployee(Employee):\n",
    "    def __init__(self,id,name,hours_worked,hour_rate):\n",
    "        super().__init__(id,name)\n",
    "        self.hours_worked=hours_worked\n",
    "        self.hour_rate=hour_rate\n",
    "    def calculate_payroll(self):\n",
    "        return self.hours_worked* self.hour_rate\n",
    "class commissionEmployee(SalaryEmployee):\n",
    "    def __init__(self,id,name,Weekly_salary,commission):\n",
    "        super().__init__(id,name,Weekly_salary)\n",
    "        self.commission= commission\n",
    "    def calculate_payroll(self):\n",
    "        fixed=super().calculate_payroll()\n",
    "        return fixed+self.commission\n",
    "\n",
    "salary_employee = SalaryEmployee(1,'felix',2000)\n",
    "hourly_employee = HourlyEmployee(2,'xavier',40,15)\n",
    "\n",
    "commission_employee = commissionEmployee(3,'Dhas',100,25)\n",
    "payroll = payrollsystem()\n",
    "payroll.calculate_payroll([salary_employee,hourly_employee,commission_employee])"
   ]
  },
  {
   "cell_type": "code",
   "execution_count": 28,
   "metadata": {},
   "outputs": [
    {
     "name": "stdout",
     "output_type": "stream",
     "text": [
      "Payroll for:1.a Amount:2020\n",
      "Payroll for:2.b Amount:600\n",
      "Payroll for:3.c Amount:125\n"
     ]
    }
   ],
   "source": [
    "class PayrollSystem():\n",
    "    def calculate_payroll(self, employees):\n",
    "        for employee in employees:\n",
    "            print(f'Payroll for:{employee.id}.{employee.name} Amount:{employee.calculate_payroll()}')\n",
    "            \n",
    "\n",
    "class Employee:\n",
    "    def __init__(self,id,name):\n",
    "        self.id = id\n",
    "        self.name = name\n",
    "\n",
    "class SalaryEmployee(Employee):\n",
    "    def __init__(self,id,name,weekly_salary):\n",
    "        super().__init__(id,name)\n",
    "        self.weekly_salary = weekly_salary\n",
    "    def calculate_payroll(self):\n",
    "        return self.weekly_salary\n",
    "\n",
    "class HourlyEmployee(Employee):\n",
    "    def __init__(self,id,name,hours_worked,hour_rate):\n",
    "        super().__init__(id,name)\n",
    "        self.hours_worked = hours_worked\n",
    "        self.hour_rate = hour_rate\n",
    "    def calculate_payroll(self):\n",
    "        return self.hours_worked*self.hour_rate\n",
    "class CommissionEmployee(SalaryEmployee):\n",
    "    def __init__(self,id,name,weekly_salary,commission):\n",
    "        super().__init__(id,name,weekly_salary)\n",
    "        self.commission = commission\n",
    "    def calculate_payroll(self):\n",
    "        fixed = super().calculate_payroll()\n",
    "        return fixed + self.commission\n",
    "\n",
    "\n",
    "salary_employee = SalaryEmployee(1,'a',2020)\n",
    "hourly_employee = HourlyEmployee(2,'b',40,15)\n",
    "commission_employee = CommissionEmployee(3,'c',100,25)\n",
    "payroll = PayrollSystem()\n",
    "payroll.calculate_payroll([salary_employee,hourly_employee,commission_employee])"
   ]
  },
  {
   "cell_type": "code",
   "execution_count": 6,
   "metadata": {},
   "outputs": [
    {
     "data": {
      "text/plain": [
       "89147376"
      ]
     },
     "execution_count": 6,
     "metadata": {},
     "output_type": "execute_result"
    }
   ],
   "source": [
    "a=1000\n",
    "id(a)"
   ]
  },
  {
   "cell_type": "markdown",
   "metadata": {},
   "source": [
    "# multiple inheritence"
   ]
  },
  {
   "cell_type": "code",
   "execution_count": 17,
   "metadata": {},
   "outputs": [],
   "source": [
    "class person:\n",
    "    def __init__(self,name,age):\n",
    "        self.name=name\n",
    "        self.age=age\n",
    "    def show_name(slef):\n",
    "        print(self.name)\n",
    "    def show_age(self):\n",
    "        print(self.age)\n",
    "class student:\n",
    "    def __init__(self,id):\n",
    "        self.id=id\n",
    "    def get_id(self):\n",
    "        print(self.student_id)\n",
    "class resident(person,student):\n",
    "    def __init__(self,name,age,id):\n",
    "        person.__init__(self,name,age)\n",
    "        student.__init__(self,id)\n",
    "    \n",
    "    "
   ]
  },
  {
   "cell_type": "code",
   "execution_count": 18,
   "metadata": {},
   "outputs": [],
   "source": [
    "r1=resident(\"keyan\",19,42)"
   ]
  },
  {
   "cell_type": "code",
   "execution_count": 19,
   "metadata": {},
   "outputs": [],
   "source": [
    "class Base1:\n",
    "    def __init__(self):\n",
    "        self.name=\"hi\"\n",
    "        self.age=34\n",
    "    def getname(self):\n",
    "        return self.name\n",
    "class Base2:\n",
    "    def __init__(self):\n",
    "        self.name=\"hello\"\n",
    "        self.age=340\n",
    "    def getname(self):\n",
    "        return self.name\n",
    "class derived(Base1,Base2):\n",
    "    def __init__(self):\n",
    "        Base1.__init__(self)\n",
    "        Base2.__init__(self)\n",
    "    def getname(self):\n",
    "        return self.name"
   ]
  },
  {
   "cell_type": "code",
   "execution_count": 20,
   "metadata": {},
   "outputs": [],
   "source": [
    "d=derived()\n"
   ]
  },
  {
   "cell_type": "code",
   "execution_count": 21,
   "metadata": {},
   "outputs": [
    {
     "data": {
      "text/plain": [
       "'hello'"
      ]
     },
     "execution_count": 21,
     "metadata": {},
     "output_type": "execute_result"
    }
   ],
   "source": [
    "d.getname()"
   ]
  },
  {
   "cell_type": "code",
   "execution_count": null,
   "metadata": {},
   "outputs": [],
   "source": [
    "class Base1:\n",
    "    def __init__(self):\n",
    "        self.name=\"hi\"\n",
    "        self.age=34\n",
    "    def getname(self):\n",
    "        return self.name\n",
    "class Base2:\n",
    "    def __init__(self):\n",
    "        self.name=\"hello\"\n",
    "        self.age=340\n",
    "    def getname(self):\n",
    "        return self.name\n",
    "class derived(Base2,Base1):\n",
    "    def __init__(self):\n",
    "        Base1.__init__(self)\n",
    "        Base2.__init__(self)\n",
    "    def getname(self):\n",
    "        return self.name"
   ]
  },
  {
   "cell_type": "code",
   "execution_count": 23,
   "metadata": {},
   "outputs": [
    {
     "data": {
      "text/plain": [
       "'hello'"
      ]
     },
     "execution_count": 23,
     "metadata": {},
     "output_type": "execute_result"
    }
   ],
   "source": [
    "d=derived()\n",
    "d.getname()"
   ]
  },
  {
   "cell_type": "markdown",
   "metadata": {},
   "source": [
    "# My try"
   ]
  },
  {
   "cell_type": "code",
   "execution_count": 25,
   "metadata": {},
   "outputs": [],
   "source": [
    "class Base1:\n",
    "    def __init__(self):\n",
    "        self.name=\"hi\"\n",
    "        self.age=34\n",
    "    def getname(self):\n",
    "        return self.name\n",
    "class Base2:\n",
    "    def __init__(self):\n",
    "        self.name=\"hello\"\n",
    "        self.age=340\n",
    "    def getname(self):\n",
    "        return self.name\n",
    "class derived(Base2,Base1):\n",
    "    def __init__(self):\n",
    "        Base2.__init__(self)\n",
    "        Base1.__init__(self)\n",
    "    def getname(self):\n",
    "        return self.name"
   ]
  },
  {
   "cell_type": "code",
   "execution_count": 26,
   "metadata": {},
   "outputs": [
    {
     "data": {
      "text/plain": [
       "'hi'"
      ]
     },
     "execution_count": 26,
     "metadata": {},
     "output_type": "execute_result"
    }
   ],
   "source": [
    "d=derived()\n",
    "d.getname()"
   ]
  },
  {
   "cell_type": "markdown",
   "metadata": {},
   "source": [
    "# here I Found\n",
    "the last object's method returned"
   ]
  },
  {
   "cell_type": "code",
   "execution_count": 32,
   "metadata": {},
   "outputs": [
    {
     "data": {
      "text/plain": [
       "'hi'"
      ]
     },
     "execution_count": 32,
     "metadata": {},
     "output_type": "execute_result"
    }
   ],
   "source": [
    "class Base1:\n",
    "    def __init__(self):\n",
    "        self.name=\"hi\"\n",
    "        self.age=34\n",
    "    def getname(self):\n",
    "        return self.name\n",
    "class Base2:\n",
    "    def __init__(self):\n",
    "        self.name=\"hello\"\n",
    "        self.age=340\n",
    "    def getname1(self):\n",
    "        print(1)\n",
    "        return self.name\n",
    "    \n",
    "class derived(Base1,Base2):\n",
    "    def __init__(self):\n",
    "        super().__init__()\n",
    "    def getname(self):\n",
    "        return self.name\n",
    "d1=derived()\n",
    "d1.getname()"
   ]
  },
  {
   "cell_type": "code",
   "execution_count": 33,
   "metadata": {},
   "outputs": [
    {
     "data": {
      "text/plain": [
       "'hello'"
      ]
     },
     "execution_count": 33,
     "metadata": {},
     "output_type": "execute_result"
    }
   ],
   "source": [
    "class Base1:\n",
    "    def __init__(self):\n",
    "        self.name=\"hi\"\n",
    "        self.age=34\n",
    "    def getname(self):\n",
    "        return self.name\n",
    "class Base2:\n",
    "    def __init__(self):\n",
    "        self.name=\"hello\"\n",
    "        self.age=340\n",
    "    def getname1(self):\n",
    "        print(1)\n",
    "        return self.name\n",
    "    \n",
    "class derived(Base2,Base1):\n",
    "    def __init__(self):\n",
    "        super().__init__()\n",
    "    def getname(self):\n",
    "        return self.name\n",
    "d1=derived()\n",
    "d1.getname()"
   ]
  },
  {
   "cell_type": "code",
   "execution_count": 34,
   "metadata": {},
   "outputs": [],
   "source": [
    "#this is what called as diamond problem\n",
    "#here one class is derived from two classes having same attributes and methods\n",
    "#if we use super then first parameter in the derived class will impact \n",
    "#While not using super check my try above"
   ]
  },
  {
   "cell_type": "code",
   "execution_count": null,
   "metadata": {},
   "outputs": [],
   "source": []
  }
 ],
 "metadata": {
  "kernelspec": {
   "display_name": "Python 3",
   "language": "python",
   "name": "python3"
  },
  "language_info": {
   "codemirror_mode": {
    "name": "ipython",
    "version": 3
   },
   "file_extension": ".py",
   "mimetype": "text/x-python",
   "name": "python",
   "nbconvert_exporter": "python",
   "pygments_lexer": "ipython3",
   "version": "3.7.6"
  }
 },
 "nbformat": 4,
 "nbformat_minor": 4
}
